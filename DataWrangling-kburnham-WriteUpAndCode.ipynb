{
 "metadata": {
  "name": "",
  "signature": "sha256:6030cbe0e9c609122281633afdc2313b1366097c0d9a454a8a6be68d767bec5d"
 },
 "nbformat": 3,
 "nbformat_minor": 0,
 "worksheets": [
  {
   "cells": [
    {
     "cell_type": "heading",
     "level": 1,
     "metadata": {},
     "source": [
      "Data Wrangling with MongoDB: Austin, Texas"
     ]
    },
    {
     "cell_type": "heading",
     "level": 3,
     "metadata": {},
     "source": [
      "Kevin Burnham <font size=2><kburnham@gmail.com></font>"
     ]
    },
    {
     "cell_type": "markdown",
     "metadata": {},
     "source": [
      "-----\n",
      "<a id=\"top\"></a>"
     ]
    },
    {
     "cell_type": "markdown",
     "metadata": {},
     "source": [
      "Table of Contents\n",
      "<ol>\n",
      "<li><a href=\"#introduction\">Introduction</a></li>\n",
      "<li><a href=\"#auditing_and_cleaning\">Auditing & Cleaning</a></li>\n",
      "<li><a href=\"#exporting\">Exporting to MongoDB</a></li>\n",
      "<li><a href=\"#querying\">Querying the Database</a></li>\n",
      "<li><a href=\"#conclusion\">Conclusion</a></li>\n",
      "<li><a href=\"#bibliography\">Bibliography</a></li>\n",
      "<li><a href=\"#code\">Code</a></li>\n",
      "</ol>\n",
      "\n",
      "-----"
     ]
    },
    {
     "cell_type": "heading",
     "level": 2,
     "metadata": {},
     "source": [
      "Introduction"
     ]
    },
    {
     "cell_type": "markdown",
     "metadata": {},
     "source": [
      "In this project we begin with an XML file provided by OpenStreetMaps (OSM). We audit and clean the data of interest to us and then export it to a MongoDB database using an intermediary JSON file. Finally, we query the data to see what we can learn about Austin. \n",
      "\n",
      "-----"
     ]
    },
    {
     "cell_type": "markdown",
     "metadata": {},
     "source": [
      "<a id=\"auditing_and_cleaning\"></a>"
     ]
    },
    {
     "cell_type": "heading",
     "level": 2,
     "metadata": {},
     "source": [
      "Auditing & Cleaning"
     ]
    },
    {
     "cell_type": "markdown",
     "metadata": {},
     "source": [
      "We begin by getting a count of all the different tag types that we find in the data. We then identify the information that is most valuable to us, audit those data to determine what types of wrangling is necessary and write helper functions to do that wrangling. \n",
      "\n",
      "As a first step we count the tags with this  <a href='#count_tags'>`count_tags`</a> function and get the following result:\n",
      "\n",
      "\n",
      "    {'bounds': 1,\n",
      "     'member': 10712,\n",
      "     'nd': 880991,\n",
      "     'node': 761182,\n",
      "     'osm': 1,\n",
      "     'relation': 938,\n",
      "     'tag': 527014,\n",
      "     'way': 78371}"
     ]
    },
    {
     "cell_type": "markdown",
     "metadata": {},
     "source": [
      "Since we are interested mainly in places to go in Austin, we will take a closer look at that tags in our nodes. With the <a href=\"#count_keys\">`count_keys`</a> function we count the number of occurences of each key in the tags of nodes only. The most common keys are:\n",
      "\n",
      " - ele 1599\n",
      " - gnis:feature_id 1443\n",
      " - name 4774\n",
      " - highway 8013\n",
      " - power 2059\n",
      " - amenity 3324\n",
      " - created_by 5446"
     ]
    },
    {
     "cell_type": "markdown",
     "metadata": {},
     "source": [
      "Next, we choose several key types to focus on and make a list of the values contained in those keys. The function below takes in a tag key type (e.g. 'amenity') and an XML file and returns a count of the values associated with that key:\n",
      "\n",
      "\n",
      "    def count_values(key, filename): \n",
      "        counter = collections.Counter()\n",
      "        for item, elem in ET.iterparse(filename):\n",
      "            if elem.tag == 'node':\n",
      "                for tag in elem.findall('tag'):\n",
      "                    if tag.attrib['k'] == key:\n",
      "                        counter[(tag.attrib['v'])] += 1\n",
      "        return counter\n"
     ]
    },
    {
     "cell_type": "markdown",
     "metadata": {},
     "source": [
      "Using the `count_values` function and focusing on tags of special interest to us, we identify problems and opportunities in the OSM data, describe our proposed solutions and link to the helper functions we will use when we export data to the JSON file. "
     ]
    },
    {
     "cell_type": "markdown",
     "metadata": {},
     "source": [
      "<a id=\"return_religion\"></a>"
     ]
    },
    {
     "cell_type": "markdown",
     "metadata": {},
     "source": [
      "**Religions/Denominations**\n",
      "\n",
      " - There is a lack of uniformity in the classification of denominations. 'mormon' and 'latter_day_saints' are listed seperately but should be combined into a single key, same with 'catholic' and 'roman_catholic'.\n",
      " \n",
      " - Some of the religion/denomination names contain the '_' instead of a space, we'll replace those with ' '. Also, 'Jehovahs' should have an apostrophe.\n",
      " \n",
      " - The names of religions and denominations should be capitalized.\n",
      " \n",
      " See the make_national_cuisine_list and get_cuisine functions <a href=\"#clean_religion\">here</a>.\n",
      "\n",
      " "
     ]
    },
    {
     "cell_type": "markdown",
     "metadata": {},
     "source": [
      " <a id =\"elevation\"></a>\n",
      "Elevation\n",
      "  - Many of the tags in the OSM database have a `gnis:feature_id`. GNIS is the Geographical Names Information System of the United States Geological Survey (USGS). Where we have a GNIS feature id in the OSM database we can check the elevation against the data from the USGS. Below we show a histogram of the differences between the OSM and USGS datasets. It shows that while most of the differences are rather small, a few are significantly different. The code for importing and comparing the data is <a href=\"#elevation_code\">here</a>.\n",
      "  \n",
      "- When we find a discrepancy between the USGS data and the OSM data we will use the USGS data and create a field to indicate that the elevation supplied does come from the USGS. However, just in case we later regret this decision, we will retain the data from the `ele` tag in a field called `old_elevation`. See the <a href=\"#export_code\">final export function</a> for details."
     ]
    },
    {
     "cell_type": "code",
     "collapsed": false,
     "input": [
      "#plot a histogram of the differences between the 'ele' tag and the USGS elevation data                                 \n",
      "differences = [np.abs(x) for x in elevation_differences.values()]\n",
      "df = pd.DataFrame(differences, columns=['Differences between OSM and gnis data'])\n",
      "p = ggplot(aes(x='Differences between OSM and gnis data'), data=df)\n",
      "p + geom_histogram(binwidth=1, color=\"black\",fill=\"palevioletred\") + theme_bw()"
     ],
     "language": "python",
     "metadata": {},
     "outputs": [
      {
       "metadata": {},
       "output_type": "display_data",
       "png": "[encoded data removed]",
       "text": [
        "<matplotlib.figure.Figure at 0x25c576f90>"
       ]
      },
      {
       "metadata": {},
       "output_type": "pyout",
       "prompt_number": 30,
       "text": [
        "<ggplot: (634412557)>"
       ]
      }
     ],
     "prompt_number": 30
    },
    {
     "cell_type": "markdown",
     "metadata": {},
     "source": [
      "<a id=\"cuisine\"></a>"
     ]
    },
    {
     "cell_type": "markdown",
     "metadata": {},
     "source": [
      "**Cuisine**\n",
      "\n",
      " - There are a number of cases where the same cuisine type is listed under different headings (e.g. \"BBQ\", \"Barbecue\" and \"Bar-B-Q\"). We will want to make a mapping dictionary so that we have uniform values in our database.\n",
      " \n",
      " - There are some cuisine entries in which multiple cuisines are indicated by a single field. We should break those apart into an array of cuisine types.\n",
      " \n",
      " - Some of the cuisine names are also national/ethnic names, and should be capitalized, while others are generic food types and should not be. We will use a list we found on ranker.com to check for which cuisine types should be capitalized.\n",
      " \n",
      "see the code for `make_national_cuisine_list` and `get_cuisine` <a href=\"#cuisine_code\">here.</a>\n",
      " "
     ]
    },
    {
     "cell_type": "markdown",
     "metadata": {},
     "source": [
      "<a id=\"address\"></a>"
     ]
    },
    {
     "cell_type": "markdown",
     "metadata": {},
     "source": [
      "**Address**\n",
      "\n",
      " - There is a lack of standardization in how street names are represented. We want to import the street names in their full forms (e.g. \"Lane\" instead of \"Ln.\"). We need to audit the data and create a mapping dictionary for making the needed conversions.\n",
      " \n",
      " - We will also standardize compass point directions(e.g. N. = North)\n",
      " \n",
      " - Postcodes are not uniform. Some have only a five digit code while others include an additional 4 digits. Some of the postcodes include a 'TX' prefix and at least one ('14150') clearly does not belong. We need a helper function that will filter out inappropriate zip codes, truncate the zip code to 5 digits and, where possible, also return the 'plus4' code under a seperate entry.\n",
      " \n",
      " The code for auditing and cleaning the address data is <a href=\"#address_code\">here</a>."
     ]
    },
    {
     "cell_type": "markdown",
     "metadata": {},
     "source": [
      "<a id=\"exporting\"></a>"
     ]
    },
    {
     "cell_type": "markdown",
     "metadata": {},
     "source": [
      "-----"
     ]
    },
    {
     "cell_type": "heading",
     "level": 2,
     "metadata": {},
     "source": [
      "Exporting to MongoDB"
     ]
    },
    {
     "cell_type": "markdown",
     "metadata": {},
     "source": [
      "Now we would like to export the XML file to a MongoDB database. Then we can query that database to learn some interesting facts about Austin and to find points of interest. \n",
      "\n",
      "First we write a function that will take in a node from the OSM datafile and return a dictionary. The key-value pairs of the dictionary are taken from the attributes and tags of the node. We will create a subdictionary called `created` for information about the creation of the node and an array called `pos` holding the geographical coordinates of the node. Later we can use this array to create a 2D index in MongoDB. As noted above, we will also create an array of cuisine types whenever we have a `cuisine` key. \n",
      "    \n",
      "See `node_to_dictionary` <a href=\"#export_code\">here</a>."
     ]
    },
    {
     "cell_type": "markdown",
     "metadata": {},
     "source": [
      "Our next step is to create a JSON file using the `node_to_dictionary` function described above as follows:"
     ]
    },
    {
     "cell_type": "code",
     "collapsed": false,
     "input": [
      "def make_json(filename):\n",
      "    file_out = filename + \".json\"\n",
      "    with codecs.open(file_out, \"w\") as fo: #https://www.udacity.com/course/viewer#!/c-ud032-nd/l-768058569/e-865240067/m-863660253\n",
      "        for item, elem in ET.iterparse(filename):\n",
      "            if elem.tag == \"node\":\n",
      "                new_dict = node_to_dictionary(elem)\n",
      "                if new_dict:\n",
      "                    fo.write(json.dumps(new_dict) + '\\n')"
     ],
     "language": "python",
     "metadata": {},
     "outputs": [],
     "prompt_number": 12
    },
    {
     "cell_type": "code",
     "collapsed": false,
     "input": [
      "make_json(filename)"
     ],
     "language": "python",
     "metadata": {},
     "outputs": [],
     "prompt_number": 11
    },
    {
     "cell_type": "markdown",
     "metadata": {},
     "source": [
      "And then we use that file to create our MongoDB database."
     ]
    },
    {
     "cell_type": "code",
     "collapsed": false,
     "input": [
      "client = MongoClient()\n",
      "db = client.austintexas"
     ],
     "language": "python",
     "metadata": {},
     "outputs": [],
     "prompt_number": 14
    },
    {
     "cell_type": "code",
     "collapsed": false,
     "input": [
      "with open('austin_texas.osm.json') as input:\n",
      "    for line in input:\n",
      "        data = json.loads(line)\n",
      "        db.osm.insert(data)\n"
     ],
     "language": "python",
     "metadata": {},
     "outputs": [],
     "prompt_number": 15
    },
    {
     "cell_type": "markdown",
     "metadata": {},
     "source": [
      "<a id=\"querying\"></a>"
     ]
    },
    {
     "cell_type": "markdown",
     "metadata": {},
     "source": [
      "-----"
     ]
    },
    {
     "cell_type": "heading",
     "level": 2,
     "metadata": {},
     "source": [
      "Querying the Database"
     ]
    },
    {
     "cell_type": "markdown",
     "metadata": {},
     "source": [
      "Now we can query the database and answer some burning questions about Austin, TX."
     ]
    },
    {
     "cell_type": "markdown",
     "metadata": {},
     "source": [
      "**Question #1 - What is the relative size of each of the Christian denominations (measured by number of places of worship)?**"
     ]
    },
    {
     "cell_type": "code",
     "collapsed": false,
     "input": [
      "result = db.osm.aggregate([{\"$match\" : {\"religion\" : \"Christian\", \"denomination\" : {\"$exists\" : 1}}},\n",
      "                        {\"$group\" : {\"_id\" : \"$denomination\", \"count\" : {\"$sum\" : 1}}},\n",
      "                         {\"$sort\" : {\"count\" : -1}}])\n",
      "\n",
      "#we want to see a pie chart of the results\n",
      "denominations = {x['_id'] : x['count'] for x in result['result']}\n",
      "\n",
      "#limit the number of pie slices by compressing the 4 smallest denominations into an 'other' category\n",
      "main_denominations = {x : y for x,y in denominations.items() if y >7}\n",
      "main_denominations['other'] = sum(denominations.values()) - sum(main_denominations.values())\n",
      "\n",
      "#http://matplotlib.org/examples/pie_and_polar_charts/pie_demo_features.html\n",
      "types = [key for key in main_denominations.keys()]\n",
      "counts = [float(value) for value in main_denominations.values()]\n",
      "colors = [\"sage\", \"c\", \"azure\", \"slateblue\", \"mediumpurple\", \"skyblue\", \"cornflowerblue\"]\n",
      "\n",
      "plt.pie(counts, labels=types, colors=colors, autopct='%1.f%%')\n",
      "plt.title('Christian Denominations in Austin, TX')\n",
      "plt.show()"
     ],
     "language": "python",
     "metadata": {},
     "outputs": [
      {
       "metadata": {},
       "output_type": "display_data",
       "png": "[encoded data removed]",
       "text": [
        "<matplotlib.figure.Figure at 0x25c37c0d0>"
       ]
      }
     ],
     "prompt_number": 16
    },
    {
     "cell_type": "markdown",
     "metadata": {},
     "source": [
      "**Question #2 - What are the highest points in the database?**"
     ]
    },
    {
     "cell_type": "code",
     "collapsed": false,
     "input": [
      "result = db.osm.aggregate([{\"$sort\" : {\"elevation\" : -1}},\n",
      "                           {\"$limit\" : 6},\n",
      "                           {\"$project\" : {\"_id\" : 0,\"name\" : 1, 'elevation' : 1}}])\n",
      "\n",
      "for x in result['result']:\n",
      "    print x['name'].title(), x['elevation']"
     ],
     "language": "python",
     "metadata": {},
     "outputs": [
      {
       "output_type": "stream",
       "stream": "stdout",
       "text": [
        "Soil Conservation Service Site 15 Dam 700\n",
        "Jack Mountain 451\n",
        "Roundtree Mountain 440\n",
        "Mount Sharp Cemetery 437\n",
        "Martin Cemetery 432\n",
        "Shingle Hills 432\n"
       ]
      }
     ],
     "prompt_number": 18
    },
    {
     "cell_type": "markdown",
     "metadata": {},
     "source": [
      "**Question #3 - What are the most common cuisine types in the database?**"
     ]
    },
    {
     "cell_type": "code",
     "collapsed": false,
     "input": [
      "result = db.osm.aggregate([{\"$unwind\" : \"$cuisine\"},\n",
      "                           {\"$group\" : {\"_id\" : \"$cuisine\", \"count\" : {\"$sum\" : 1} }},\n",
      "                           {\"$sort\" : {\"count\" : -1}},\n",
      "                           {\"$limit\" : 10}\n",
      "                          ])\n",
      "for x in result['result']:\n",
      "    print x['_id'], x['count']\n"
     ],
     "language": "python",
     "metadata": {},
     "outputs": [
      {
       "output_type": "stream",
       "stream": "stdout",
       "text": [
        "Mexican 71\n",
        "burger 49\n",
        "pizza 38\n",
        "sandwich 35\n",
        "Chinese 21\n",
        "American 20\n",
        "coffee shop 18\n",
        "Indian 15\n",
        "Italian 13\n",
        "Thai 13\n"
       ]
      }
     ],
     "prompt_number": 19
    },
    {
     "cell_type": "markdown",
     "metadata": {},
     "source": [
      "**Question 4 - What are the closest Mexican restaurant to my current location?**"
     ]
    },
    {
     "cell_type": "code",
     "collapsed": false,
     "input": [
      "#first we need to create a geospatial index on the 'pos' field of our documents.\n",
      "db.osm.ensure_index([('pos', pymongo.GEO2D)])"
     ],
     "language": "python",
     "metadata": {},
     "outputs": [
      {
       "metadata": {},
       "output_type": "pyout",
       "prompt_number": 20,
       "text": [
        "u'pos_2d'"
       ]
      }
     ],
     "prompt_number": 20
    },
    {
     "cell_type": "code",
     "collapsed": false,
     "input": [
      "my_loc = [-97.753333, 30.349167]\n",
      "for doc in db.osm.find({\"cuisine\" : \"Mexican\",\"pos\" : {\"$near\" : my_loc}}, { \"name\" : 1, \"_id\" : 0, 'address.housenumber' : 1}).limit(5):\n",
      "    print doc['name'].title()"
     ],
     "language": "python",
     "metadata": {},
     "outputs": [
      {
       "output_type": "stream",
       "stream": "stdout",
       "text": [
        "Arandas\n",
        "Chipotle Mexican Grill\n",
        "Torchy'S Tacos\n",
        "Panaderia\n",
        "El Nuevo Mexico\n"
       ]
      }
     ],
     "prompt_number": 21
    },
    {
     "cell_type": "markdown",
     "metadata": {},
     "source": [
      "**Question #5 - What are the closest natural sites?**"
     ]
    },
    {
     "cell_type": "code",
     "collapsed": false,
     "input": [
      "for doc in db.osm.find({\"natural\" : {\"$exists\" : 1}, \"name\" : {\"$exists\" : 1}, \"pos\" : {\"$near\" : my_loc}},\n",
      "                       { \"name\" : 1, \"_id\" : 0}).limit(5):\n",
      "    print doc['name'].title()"
     ],
     "language": "python",
     "metadata": {},
     "outputs": [
      {
       "output_type": "stream",
       "stream": "stdout",
       "text": [
        "Cat Mountain\n",
        "Mount Lucas\n",
        "Mount Barker\n",
        "Mount Bonnell\n",
        "Mount Larson\n"
       ]
      }
     ],
     "prompt_number": 23
    },
    {
     "cell_type": "markdown",
     "metadata": {},
     "source": [
      "**Question #6 - How do I find the closest amenities to a given address?**"
     ]
    },
    {
     "cell_type": "code",
     "collapsed": false,
     "input": [
      "#this function finds the closest amenities to the supplied address, if the address is not in the db, return None\n",
      "def find_closest(housenumber, street, amenity):\n",
      "    current_loc = db.osm.find_one({'address.housenumber' : housenumber, 'address.street' : street}, {\"pos\" : 1})\n",
      "    if not current_loc:\n",
      "        return None\n",
      "    return db.osm.find({'amenity' : amenity, 'pos' : {\"$near\" : current_loc['pos']}}, {\"_id\" : 0, \"name\" : 1, \"address.housenumber\" : 1,\n",
      "                                                                                \"address.street\" : 1}).limit(5)\n"
     ],
     "language": "python",
     "metadata": {},
     "outputs": [],
     "prompt_number": 27
    },
    {
     "cell_type": "code",
     "collapsed": false,
     "input": [
      "#find the closest bars\n",
      "locations = find_closest('2911', 'San Jacinto Boulevard', 'bar')\n",
      "\n",
      "if locations:\n",
      "    for loc in locations:\n",
      "        print loc['name'].title()\n",
      "        if 'address' in loc:\n",
      "            print loc['address']['housenumber'] + \" \" + loc['address']['street']\n",
      "        print \"-------\"\n",
      "else:\n",
      "    print \"Address not found!\""
     ],
     "language": "python",
     "metadata": {},
     "outputs": [
      {
       "output_type": "stream",
       "stream": "stdout",
       "text": [
        "Cactus Cafe\n",
        "2247 Guadalupe Street\n",
        "-------\n",
        "Nast'Y\n",
        "-------\n",
        "Dive\n",
        "1703 Guadalupe Street\n",
        "-------\n",
        "Haymaker\n",
        "2310 Manor Road\n",
        "-------\n",
        "Mohawk\n",
        "912 Red River Street\n",
        "-------\n"
       ]
      }
     ],
     "prompt_number": 26
    },
    {
     "cell_type": "markdown",
     "metadata": {},
     "source": [
      "-----\n",
      "<a id=\"conclusion\"></a>"
     ]
    },
    {
     "cell_type": "heading",
     "level": 2,
     "metadata": {},
     "source": [
      "Conclusion"
     ]
    },
    {
     "cell_type": "markdown",
     "metadata": {},
     "source": [
      "First an overview of the file(s) used:\n",
      " - Size of original OSM file: 174.6 MB\n",
      " - Size of intermediary JSON file: 140 MB\n",
      " - Size of MongoDB database: 67.1 MB\n",
      " - Number of unique contributors: 761\n",
      " - Number of nodes: 761182\n",
      " \n",
      "The analysis above represents only some of the steps that would be taken to clean and improve the data that we received from OSM. It is clear from the start that the data here are only a partial representation of the actual points in Austin. For example, there is a Mexican restaurant across the street from me that is not in the database. In addition to being incomplete, we can not even be certain that the data are representative. It may be, for example, that Baptist churches are, for some reason, more likely to have been added to the database than the churches of other denominations. Furthermore, we only examined and cleaned a few of the tags that exist in the database, no doubt each of the other tags would require similar efforts to clean and improve. \n",
      "\n",
      "One of the best ways that the data could be improved would be the inclusion of relevant data from the <a href=\"www.data.austintexas.gov\">City of Austin Data Portal</a>. This site has numerous datasets that could be used to correct, refine and expand the data we have collected here. Datasets include locations of dangerous dogs, golf courses, police and fire station locations and many more. An especially useful improvement to the database would be to add entries for restaurant inspection scores that would be even more useful than proximity data in deciding where to eat. \n",
      "\n",
      "-----"
     ]
    },
    {
     "cell_type": "markdown",
     "metadata": {},
     "source": [
      "<a id=\"bibliography\"></a>"
     ]
    },
    {
     "cell_type": "heading",
     "level": 2,
     "metadata": {},
     "source": [
      "Resources"
     ]
    },
    {
     "cell_type": "markdown",
     "metadata": {},
     "source": [
      "The primary source of technical information used to complete this project was provided by Udacity's <a href=\"https://www.udacity.com/course/viewer#!/c-ud032-nd/l-491558559/m-816599080\">DataWrangling with MongoDB</a> course.\n",
      "\n",
      "Other resources consulted include:\n",
      "\n",
      "- the <a href=\"http://docs.mongodb.org/manual/tutorial/getting-started/\">the MongoDB manual</a>.\n",
      "- Python's <a href=\"https://docs.python.org/2/library/json.html\">JSON documentation</a>.\n",
      "- Python's <a href=\"https://docs.python.org/2/library/xml.etree.elementtree.html\">ElementTree documentation</a>.\n",
      "\n",
      "Cases where specific code segments were borrowed from other sources are commented within the code in the appendix.\n",
      "\n",
      "The following files were used to build the database:\n",
      "\n",
      "- `austin_texas.osm` from Open Street Map's Austin, TX <a href=\"https://mapzen.com/metro-extracts/\">metro extract</a>.\n",
      "- `TX_Features_20141202.txt` provided by the <a href=\"geonames.usgs.gov/domestic/\">US Geological Survey</a>. \n",
      "- `cuisine_list.txt` from ranker.com's <a href=\"http://www.ranker.com/crowdranked-list/favorite-types-of-cuisine\">list of most popular national cuisines</a>.\n",
      "\n",
      "-----"
     ]
    },
    {
     "cell_type": "markdown",
     "metadata": {},
     "source": [
      "Return to <a href=\"#top\">top</a>"
     ]
    },
    {
     "cell_type": "markdown",
     "metadata": {},
     "source": [
      "<a id='code'></a>"
     ]
    },
    {
     "cell_type": "markdown",
     "metadata": {},
     "source": [
      "<h2>Code</h2>"
     ]
    },
    {
     "cell_type": "markdown",
     "metadata": {},
     "source": [
      "**Import necessary modules**"
     ]
    },
    {
     "cell_type": "code",
     "collapsed": false,
     "input": [
      "#import the modules I will need\n",
      "import xml.etree.ElementTree as ET\n",
      "import pprint\n",
      "import csv\n",
      "import pandas as pd\n",
      "from ggplot import *\n",
      "from scipy import stats\n",
      "import numpy as np\n",
      "import collections\n",
      "import re\n",
      "from pymongo import MongoClient\n",
      "import datetime\n",
      "import time\n",
      "from pymongo import MongoClient\n",
      "import pymongo\n",
      "import matplotlib.pyplot as plt\n",
      "import json\n",
      "import codecs\n",
      "\n",
      "#we have a graph to show later\n",
      "%matplotlib inline\n"
     ],
     "language": "python",
     "metadata": {},
     "outputs": [],
     "prompt_number": 1
    },
    {
     "cell_type": "markdown",
     "metadata": {},
     "source": [
      "**Designate input file**"
     ]
    },
    {
     "cell_type": "code",
     "collapsed": false,
     "input": [
      "filename = 'austin_texas.osm'"
     ],
     "language": "python",
     "metadata": {},
     "outputs": [],
     "prompt_number": 2
    },
    {
     "cell_type": "markdown",
     "metadata": {},
     "source": [
      "<a id='count_tags'></a>"
     ]
    },
    {
     "cell_type": "markdown",
     "metadata": {},
     "source": [
      "**Count the tags in the database**"
     ]
    },
    {
     "cell_type": "code",
     "collapsed": false,
     "input": [
      "#count the tags in our database\n",
      "def count_tags(filename):\n",
      "    tags = {}\n",
      "    for item, elem in ET.iterparse(filename):\n",
      "        if elem.tag not in tags:\n",
      "            tags[elem.tag] = 1\n",
      "        else:\n",
      "            tags[elem.tag] += 1\n",
      "    return tags"
     ],
     "language": "python",
     "metadata": {},
     "outputs": [],
     "prompt_number": 3
    },
    {
     "cell_type": "markdown",
     "metadata": {},
     "source": [
      "Return to <a href = \"#auditing_and_cleaning\">Auditing & Cleaning</a>"
     ]
    },
    {
     "cell_type": "markdown",
     "metadata": {},
     "source": [
      "<a id=\"count_keys\"></a>"
     ]
    },
    {
     "cell_type": "markdown",
     "metadata": {},
     "source": [
      "**Count the keys in the nodes**"
     ]
    },
    {
     "cell_type": "code",
     "collapsed": false,
     "input": [
      "def count_keys(filename):\n",
      "    tag_keys = collections.Counter()\n",
      "    for item, elem in ET.iterparse(filename):\n",
      "        if elem.tag == 'node':\n",
      "            for x in elem:\n",
      "                tag_keys[x.attrib['k']] += 1\n",
      "    return tag_keys\n"
     ],
     "language": "python",
     "metadata": {},
     "outputs": [],
     "prompt_number": 4
    },
    {
     "cell_type": "markdown",
     "metadata": {},
     "source": [
      "Return to <a href = \"#auditing_and_cleaning\">Auditing & Cleaning</a>"
     ]
    },
    {
     "cell_type": "markdown",
     "metadata": {},
     "source": [
      "<a id=\"clean_religion\"></a>"
     ]
    },
    {
     "cell_type": "markdown",
     "metadata": {},
     "source": [
      "**Clean the religion and denomination names**"
     ]
    },
    {
     "cell_type": "code",
     "collapsed": false,
     "input": [
      "#clean the religion and denomination names\n",
      "def clean_religion(entry):\n",
      "    new_entry = entry.lower()\n",
      "    if new_entry == \"latter_day_saints\":\n",
      "        return \"Mormon\"\n",
      "    if new_entry == \"roman_catholic\":\n",
      "        return \"Catholic\"\n",
      "    if 'jehovahs' in new_entry:\n",
      "        return \"Jehovah's Witness\"\n",
      "    return entry.replace('_',' ').title()"
     ],
     "language": "python",
     "metadata": {},
     "outputs": [],
     "prompt_number": 5
    },
    {
     "cell_type": "markdown",
     "metadata": {},
     "source": [
      "Return to <a href = \"#return_religion\">religion/denomination</a>"
     ]
    },
    {
     "cell_type": "markdown",
     "metadata": {},
     "source": [
      "<a id=\"elevation_code\"></a>"
     ]
    },
    {
     "cell_type": "heading",
     "level": 6,
     "metadata": {},
     "source": [
      "Import GNIS data from the USGS and compare with the OSM data"
     ]
    },
    {
     "cell_type": "code",
     "collapsed": false,
     "input": [
      "#We want a list of gnis:feature_ids that are in our OSM data, we will then extract those features from the gnis data\n",
      "gnis_features = []\n",
      "for item, elem in ET.iterparse(filename):\n",
      "    if elem.tag == 'node':\n",
      "        for x in elem:\n",
      "            if x.attrib['k'] == \"gnis:feature_id\":\n",
      "                if \";\" in str(x.attrib['v']):\n",
      "                    for q in x.attrib['v'].split(';'):\n",
      "                        gnis_features.append(q)\n",
      "                else:\n",
      "                    gnis_features.append(x.attrib['v'])\n",
      "                    \n",
      "#now we import the data from the USGS which includes data on the elevation. We will only import the ones that exist in the OSM \n",
      "#database. See below for an example entry from these data.\n",
      "gnis_data = []\n",
      "with open('TX_Features_20141202.txt', 'rb') as csvfile:\n",
      "    reader = csv.DictReader(csvfile, delimiter='|')\n",
      "    for line in reader:\n",
      "        if line['\\xef\\xbb\\xbfFEATURE_ID'] in gnis_features: #the data we have include all of TX, but we just want the points in OSM\n",
      "            gnis_data.append(line)\n",
      "            \n",
      "#finally, we compare the elevations from the two difference datasets and create a dictionary of features and the elevations\n",
      "#differences\n",
      "elevation_differences = {}\n",
      "for item, elem in ET.iterparse('austin_texas.osm'):\n",
      "    if elem.tag == 'node':\n",
      "        OSM_ele = None\n",
      "        for tag in elem: #first get the OSM elevation\n",
      "            if tag.attrib['k'] == 'ele':\n",
      "                OSM_ele = tag.attrib['v']\n",
      "        if not OSM_ele:\n",
      "            continue\n",
      "        for tag in elem: #now get the gnis elevation\n",
      "           if tag.attrib['k'] == 'gnis:feature_id':\n",
      "                for item in gnis_data:\n",
      "                    if item['\\xef\\xbb\\xbfFEATURE_ID'] == tag.attrib['v']:\n",
      "                        if item['ELEV_IN_M'] != OSM_ele:\n",
      "                            for name in elem:\n",
      "                                if name.attrib['k'] == 'name':\n",
      "                                    elevation_differences[name.attrib['v']] = int(OSM_ele) - int(item['ELEV_IN_M'])\n",
      "                                    \n",
      "#this function creates a dictionary from the USGS data with entries like this {feature_id : elevation}\n",
      "def get_gnis_elevations(gnis_textfile):\n",
      "    gnis_elevations = {}\n",
      "    with open(gnis_textfile, 'rb') as csvfile:\n",
      "            reader = csv.DictReader(csvfile, delimiter='|')\n",
      "            for line in reader:\n",
      "                if line['ELEV_IN_M'] != '':\n",
      "                    gnis_elevations[line['\\xef\\xbb\\xbfFEATURE_ID']] = int(line['ELEV_IN_M'])\n",
      "                else:\n",
      "                    gnis_elevations[line['\\xef\\xbb\\xbfFEATURE_ID']] = None\n",
      "    return gnis_elevations\n",
      "\n",
      "gnis_elevations = get_gnis_elevations('TX_Features_20141202.txt')"
     ],
     "language": "python",
     "metadata": {},
     "outputs": [],
     "prompt_number": 6
    },
    {
     "cell_type": "markdown",
     "metadata": {},
     "source": [
      "Return to <a href = \"#return_religion\">elevation</a>"
     ]
    },
    {
     "cell_type": "markdown",
     "metadata": {},
     "source": [
      "<a id=\"cuisine_code\"></a>"
     ]
    },
    {
     "cell_type": "heading",
     "level": 6,
     "metadata": {},
     "source": [
      "Audit and clean the cuisine types"
     ]
    },
    {
     "cell_type": "code",
     "collapsed": false,
     "input": [
      "#first we will generate the list of cuisine types that should be capitalized from the ranker.com list we found.\n",
      "def make_national_cuisine_list(filename):\n",
      "    national_cuisine_list = []\n",
      "    with open(filename, 'rb') as cuisines:\n",
      "        for line in cuisines:\n",
      "            national_cuisine_list.append(line.split()[1].strip().lower())\n",
      "    #we need to add a couple to this list\n",
      "    national_cuisine_list.extend(['salvadoran', 'columbian', 'jamaican', 'asian', 'middle eastern'])\n",
      "    \n",
      "    return national_cuisine_list\n",
      "\n",
      "national_cuisine_list = make_national_cuisine_list('cuisine_list.txt')\n",
      "\n",
      "#and now the function for cleaning cuisine types\n",
      "def get_cuisine(cuisine_type, cuisine_list):\n",
      "    cuisine_dictionary = {'barbecue' : 'bbq', 'Texas Style BBQ' : 'bbq', 'Bar-B-Q' : 'bbq', 'Hamburgers and fires' : 'burger', \n",
      "                      'Sandwich shop' : 'sandwich', 'mediteranian' : 'Mediterranean', 'el_salvadorian' : 'salvadoran'}\n",
      "    if cuisine_type in cuisine_dictionary:\n",
      "        cuisine_type = cuisine_dictionary[cuisine_type]\n",
      "    cleaned = cuisine_type.replace('_', ' ').strip()\n",
      "    cleaned = cleaned.lower().replace('fusion', '')\n",
      "    #split any that require splitting\n",
      "    if ',' in cleaned:\n",
      "        cleaned = [x.strip() for x in cleaned.split(',')]\n",
      "        #after the split we need to check the new entries against our dictionary\n",
      "        cleaned = [cuisine_dictionary[type] if type in cuisine_dictionary else type for type in cleaned]\n",
      "    elif '/' in cleaned:\n",
      "        cleaned = cleaned.split('/')\n",
      "        #after the split we need to check the new entries against our dictionary\n",
      "        cleaned = [cuisine_dictionary[type] if type in cuisine_dictionary else type for type in cleaned]\n",
      "    elif cleaned == 'mexican korean': #this one had to be hard coded since the only seperator was '_'\n",
      "        cleaned = ['mexican', 'korean']\n",
      "            \n",
      "    else:\n",
      "        cleaned = [cleaned]\n",
      "    return [x.capitalize().strip() if x.strip() in national_cuisine_list else x.strip() for x in cleaned]"
     ],
     "language": "python",
     "metadata": {},
     "outputs": [],
     "prompt_number": 7
    },
    {
     "cell_type": "markdown",
     "metadata": {},
     "source": [
      "<a id=\"address_code\"></a>"
     ]
    },
    {
     "cell_type": "markdown",
     "metadata": {},
     "source": [
      "Return to <a href=\"#cuisine\">cuisine</a>"
     ]
    },
    {
     "cell_type": "heading",
     "level": 6,
     "metadata": {},
     "source": [
      "Audit and clean the address data"
     ]
    },
    {
     "cell_type": "code",
     "collapsed": false,
     "input": [
      "#the regex for extracting the last word in the input string. \n",
      "street_type_re = re.compile(r'\\b\\S+\\.?$', re.IGNORECASE)\n",
      "\n",
      "#these are the acceptable names for street types, if the last word is not one of these we want to know\n",
      "expected = [\"Street\", \"Avenue\", \"Boulevard\", \"Drive\", \"Court\", \"Place\", \"Square\", \"Lane\", \"Road\", \n",
      "            \"Trail\", \"Parkway\", \"Commons\", \"Expressway\", \"Cove\", \"Crossing\", \"Way\", \"Pass\", \"Path\", \"Loop\", \"Highway\", \"Quarry\"]\n",
      "\n",
      "#we build the mapping below to make sure that all of the abbreviations are matched to the full equivalent\n",
      "mapping = {\"St\" : \"Street\", \"St.\": \"Street\", \"Dr.\" : \"Drive\", \"Ave\" : \"Avenue\", \"Rd\" : \"Road\", \"street\" : \"Street\", \"Blvd\" : \"Boulevard\",\n",
      "               \"Blvd.\" : \"Boulevard\", \"Dr\" : \"Drive\", \"Pkwy\" : \"Parkway\", \"Ln\" : \"Lane\", \"Avene\" : \"Avenue\", \"Cv\" : \"Cove\", \"CR\" : \"Circle\",\n",
      "               \"Cir\" : \"Circle\", \"Ct\" : \"Court\", \"RD\" : \"Road\", \"Expwy\" : \"Expressway\", \"lane\" : \"Lane\", \"N.\" : \"North\", \"N\" : \"North\", \"W.\" : \"West\", \n",
      "               \"W\" : \"West\" , \"E\" : \"East\", \"E.\" : \"East\", \"S.\" : \"South\", \"S\" : \"South\", \"U.S.\" : \"US\", \"Hwy\" : \"Highway\",\n",
      "               \"dr.\" : \"Drive\", \"rd\" : \"road\", \"ave\" : \"Avenue\", \"ln\" : \"Lane\", \"st\" : \"Street\", \"st.\" : \"Street\", \"blvd.\" : \"Boulevard\",\n",
      "               \"rd\" : \"Road\", \"blvd\" : \"Boulevard\", \"dr\" : \"Drive\", \"sb\" : \"Southbound\", \"ih\" : \"Interstate\", \"ih35\" : \"Interstate 35\",\n",
      "               \"i\" : \"Interstate\", \"fm\" : \"Farm to Market\", \"rr\" : \"Rural Route\"} \n",
      "#we want the keys of mapping to be lower case, but we don't want to retype the whole thing, so:\n",
      "\n",
      "mapping = {k.lower(): v for k,v in mapping.items()}\n",
      "#see street types\n",
      "def audit_street_types(filename):\n",
      "    for item,elem in ET.iterparse(filename, events = ('start', )):\n",
      "        if elem.tag == 'node':\n",
      "            for tag in elem.findall('tag'):\n",
      "                if tag.attrib['k'] == 'addr:street':\n",
      "                    m = street_type_re.search(tag.attrib['v'])\n",
      "                    if m:\n",
      "                        street_type = m.group()\n",
      "                        if street_type not in expected and street_type not in mapping:\n",
      "                            print tag.attrib['v']\n",
      "  \n",
      "#this function shows the street names that exist in the data\n",
      "\n",
      "def audit_street_types(filename):\n",
      "    for item,elem in ET.iterparse(filename, events = ('start', )):\n",
      "        if elem.tag == 'node':\n",
      "            for tag in elem.findall('tag'):\n",
      "                if tag.attrib['k'] == 'addr:street':\n",
      "                    m = street_type_re.search(tag.attrib['v'])\n",
      "                    if m:\n",
      "                        street_type = m.group()\n",
      "                        if street_type not in expected and street_type not in mapping:\n",
      "                            print tag.attrib['v']\n",
      "                            \n",
      "#this function, when passed a street name and a mapping, cleans it and returns the new name for insertion into the database\n",
      "\n",
      "def clean_streetname(name, mapping):\n",
      "    new_name = \"\"\n",
      "    name = name.replace(\"-\", \" \")\n",
      "    for i in name.split():\n",
      "        if i.lower() in mapping:\n",
      "            new_name += mapping[i.lower()]\n",
      "        else:\n",
      "            new_name += i.capitalize()\n",
      "        new_name += \" \"\n",
      "    return new_name.strip()\n",
      "\n",
      "#this function takes in a postcode from the OSM file and return the cleaned postcode and the seperate 4plus code where possible\n",
      "#http://stackoverflow.com/questions/2499966/python-a-smarter-way-of-string-to-integer-conversion/2500023#2500023\n",
      "def clean_zipcode(zipcode):\n",
      "    new_zip_4 = None\n",
      "    new_zip = ''.join([x for x in zipcode if x.isdigit()])\n",
      "    if len(new_zip) > 5:\n",
      "        new_zip_4 = new_zip[5:]\n",
      "        new_zip = new_zip[0:5]\n",
      "    if 73000 > int(new_zip) < 79000:\n",
      "        return None\n",
      "    \n",
      "    return new_zip, new_zip_4\n",
      "    "
     ],
     "language": "python",
     "metadata": {},
     "outputs": [],
     "prompt_number": 8
    },
    {
     "cell_type": "markdown",
     "metadata": {},
     "source": [
      "Return to <a href=\"#address\">address</a>"
     ]
    },
    {
     "cell_type": "markdown",
     "metadata": {},
     "source": [
      "<a id=\"export_code\"></a>"
     ]
    },
    {
     "cell_type": "markdown",
     "metadata": {},
     "source": [
      "**Create dictionaries from nodes**"
     ]
    },
    {
     "cell_type": "code",
     "collapsed": false,
     "input": [
      "#fields that should be in the created subdictionary\n",
      "CREATED = [ \"version\", \"changeset\", \"timestamp\", \"user\", \"uid\", \"created_by\", \"version\"]\n",
      "#the fields we are interested in\n",
      "KEYS_TO_IMPORT = [\"amenity\", \"natural\", \"emergency\", \"public_transport\", \"leisure\", \"shelter\", \"waterway\", \"aeroway\",\n",
      "                  \"name\", \"historic\", \"created_by\", \"name\"]\n",
      "        \n",
      "def node_to_dictionary(node):\n",
      "    #initialize necessary dictionaries and lists\n",
      "    new_document = {}\n",
      "    created_dict = {}\n",
      "    address = {}\n",
      "    cuisine = []\n",
      "    #get the attributes of the node - import them into the appropriate dictionary\n",
      "    for value in node.attrib:\n",
      "        if value in CREATED:\n",
      "            created_dict[value] = node.attrib[value]\n",
      "        else:\n",
      "            new_document[value] = node.attrib[value]\n",
      "    #convert the timestamp from OSM to a Python time.struct\n",
      "    \"\"\"if 'timestamp' in created_dict:\n",
      "        newtime = datetime.datetime.strptime(created_dict['timestamp'], \"%Y-%m-%dT%H:%M:%SZ\")\n",
      "        created_dict['timestamp'] = newtime\"\"\"\n",
      "    #combine the lat and lon values into a single list entry 'pos' and convert the values to floats\n",
      "    if 'lat' in new_document and 'lon' in new_document:\n",
      "        #[lon, lat] so we can use it as a geospatial index later - http://docs.mongodb.org/manual/core/2dsphere/\n",
      "        new_document['pos'] = [float(new_document['lon']), float(new_document['lat'])]\n",
      "        del (new_document['lat'], new_document['lon'])\n",
      "    #now import the tags calling helper functions as needed to process the incoming data\n",
      "    for tag in node.findall('tag'):\n",
      "        new_key = tag.attrib['k'].lower().strip()\n",
      "        new_value = tag.attrib['v'].lower().strip()\n",
      "        if new_key in CREATED:\n",
      "            created_dict[new_key] = new_value\n",
      "        if new_key == 'religion' or new_key == 'denomination':\n",
      "            new_document[new_key] = clean_religion(new_value)\n",
      "        if new_key == \"gnis:feature_id\":\n",
      "            #get the ele from this node\n",
      "            for x in node.findall('tag'):\n",
      "                if x.attrib['k'] == \"ele\":\n",
      "                    OSM_elevation = int(x.attrib['v'])\n",
      "            #get the elevation from the USGS GNIS\n",
      "            if new_value not in gnis_elevations:\n",
      "                continue\n",
      "            GNIS_elevation = gnis_elevations[new_value]\n",
      "            if OSM_elevation == GNIS_elevation:\n",
      "                new_document['elevation'] = GNIS_elevation\n",
      "            else:\n",
      "                new_document['elevation'] = GNIS_elevation\n",
      "                new_document['old_elevation'] = OSM_elevation\n",
      "            new_document['ele_gnis_verified'] = True\n",
      "            continue\n",
      "        if new_key == 'ele':\n",
      "            new_document['elevation'] = int(float(new_value))\n",
      "            new_document['ele_gnis_verified'] = False\n",
      "        if new_key == \"cuisine\":\n",
      "            cuisine = get_cuisine(new_value, national_cuisine_list)\n",
      "        #clean our postcodes and street names\n",
      "        if new_key[0:5] == \"addr:\":\n",
      "            if new_key[5:] == \"postcode\":\n",
      "                post_code = clean_zipcode(new_value)\n",
      "                if post_code:\n",
      "                    address['postcode'] = post_code[0]\n",
      "                    if post_code[1] != None:\n",
      "                        address['zipplus4'] = post_code[1]\n",
      "            elif new_key[5:] == \"street\":\n",
      "                address['street'] = clean_streetname(new_value, mapping)\n",
      "            else:\n",
      "                address[new_key[5:]] = new_value\n",
      "        #if it's not on our list, ignore it\n",
      "        if new_key not in KEYS_TO_IMPORT:\n",
      "            continue\n",
      "        #import whatever's left\n",
      "        new_document[new_key] = new_value\n",
      "    if cuisine != []:\n",
      "      new_document['cuisine'] = cuisine\n",
      "    if address != {}:\n",
      "        new_document['address'] = address\n",
      "    new_document['created'] = created_dict\n",
      "    return new_document\n"
     ],
     "language": "python",
     "metadata": {},
     "outputs": [],
     "prompt_number": 9
    },
    {
     "cell_type": "markdown",
     "metadata": {},
     "source": [
      "Return to <a href=\"#exporting\">file export</a>"
     ]
    }
   ],
   "metadata": {}
  }
 ]
}